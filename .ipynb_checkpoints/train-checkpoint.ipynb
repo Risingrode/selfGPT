{
 "cells": [
  {
   "cell_type": "code",
   "execution_count": null,
   "metadata": {},
   "outputs": [
    {
     "ename": "",
     "evalue": "",
     "output_type": "error",
     "traceback": [
      "\u001b[1;31m运行具有“Python 3.10.12”的单元格需要ipykernel包。\n",
      "\u001b[1;31m运行以下命令，将 \"ipykernel\" 安装到 Python 环境中。\n",
      "\u001b[1;31m命令: \"/bin/python3 -m pip install ipykernel -U --user --force-reinstall\""
     ]
    }
   ],
   "source": [
    "import json\n",
    "from datasets import Dataset, DatasetDict\n",
    "\n",
    "# 加载数据\n",
    "def load_data(file_path):\n",
    "    with open(file_path, 'r', encoding='utf-8') as f:\n",
    "        data = json.load(f)\n",
    "    return data\n",
    "\n",
    "train_data = load_data('train.txt')\n",
    "dev_data = load_data('dev.json')\n",
    "test_data = load_data('test.json')\n",
    "\n",
    "# 将数据转换为datasets格式\n",
    "def convert_to_dataset(data):\n",
    "    return Dataset.from_pandas(pd.DataFrame(data))\n",
    "\n",
    "train_dataset = convert_to_dataset(train_data)\n",
    "dev_dataset = convert_to_dataset(dev_data)\n",
    "test_dataset = convert_to_dataset(test_data)\n",
    "\n",
    "datasets = DatasetDict({\n",
    "    'train': train_dataset,\n",
    "    'dev': dev_dataset,\n",
    "    'test': test_dataset\n",
    "})\n",
    "\n",
    "# 打印数据集信息\n",
    "print(datasets)\n"
   ]
  },
  {
   "cell_type": "code",
   "execution_count": null,
   "metadata": {},
   "outputs": [
    {
     "ename": "",
     "evalue": "",
     "output_type": "error",
     "traceback": [
      "\u001b[1;31m运行具有“Python 3.10.12”的单元格需要ipykernel包。\n",
      "\u001b[1;31m运行以下命令，将 \"ipykernel\" 安装到 Python 环境中。\n",
      "\u001b[1;31m命令: \"/bin/python3 -m pip install ipykernel -U --user --force-reinstall\""
     ]
    }
   ],
   "source": []
  },
  {
   "cell_type": "code",
   "execution_count": null,
   "metadata": {},
   "outputs": [
    {
     "ename": "",
     "evalue": "",
     "output_type": "error",
     "traceback": [
      "\u001b[1;31m运行具有“Python 3.10.12”的单元格需要ipykernel包。\n",
      "\u001b[1;31m运行以下命令，将 \"ipykernel\" 安装到 Python 环境中。\n",
      "\u001b[1;31m命令: \"/bin/python3 -m pip install ipykernel -U --user --force-reinstall\""
     ]
    }
   ],
   "source": [
    "from transformers import BertTokenizer, BertForQuestionAnswering, TrainingArguments, Trainer\n",
    "import torch\n",
    "\n",
    "# 加载预训练的BERT模型和tokenizer\n",
    "model_name = \"bert-base-chinese\"\n",
    "tokenizer = BertTokenizer.from_pretrained(model_name)\n",
    "model = BertForQuestionAnswering.from_pretrained(model_name)\n",
    "\n",
    "# 数据预处理\n",
    "def preprocess_function(examples):\n",
    "    questions = [q.strip() for q in examples[\"问题\"]]\n",
    "    inputs = tokenizer(\n",
    "        questions,\n",
    "        examples[\"条款\"],\n",
    "        max_length=512,\n",
    "        truncation=True,\n",
    "        padding=\"max_length\",\n",
    "        return_tensors=\"pt\"\n",
    "    )\n",
    "    start_positions = []\n",
    "    end_positions = []\n",
    "    for i, answer in enumerate(examples[\"答案\"]):\n",
    "        answer_tokens = tokenizer.tokenize(answer)\n",
    "        answer_ids = tokenizer.convert_tokens_to_ids(answer_tokens)\n",
    "        input_ids = inputs[\"input_ids\"][i].tolist()\n",
    "        start_idx = input_ids.index(answer_ids[0])\n",
    "        end_idx = start_idx + len(answer_ids) - 1\n",
    "        start_positions.append(start_idx)\n",
    "        end_positions.append(end_idx)\n",
    "    inputs[\"start_positions\"] = torch.tensor(start_positions)\n",
    "    inputs[\"end_positions\"] = torch.tensor(end_positions)\n",
    "    return inputs\n",
    "\n",
    "tokenized_datasets = datasets.map(preprocess_function, batched=True, remove_columns=[\"ID\", \"产品名\", \"条款\", \"问题\", \"答案\"])\n",
    "\n",
    "# 定义训练参数\n",
    "training_args = TrainingArguments(\n",
    "    output_dir=\"./results\",\n",
    "    evaluation_strategy=\"epoch\",\n",
    "    learning_rate=2e-5,\n",
    "    per_device_train_batch_size=16,\n",
    "    per_device_eval_batch_size=16,\n",
    "    num_train_epochs=3,\n",
    "    weight_decay=0.01,\n",
    ")\n",
    "\n",
    "# 初始化Trainer\n",
    "trainer = Trainer(\n",
    "    model=model,\n",
    "    args=training_args,\n",
    "    train_dataset=tokenized_datasets[\"train\"],\n",
    "    eval_dataset=tokenized_datasets[\"dev\"],\n",
    ")\n",
    "\n",
    "# 开始训练\n",
    "trainer.train()\n"
   ]
  },
  {
   "cell_type": "code",
   "execution_count": null,
   "metadata": {},
   "outputs": [
    {
     "ename": "",
     "evalue": "",
     "output_type": "error",
     "traceback": [
      "\u001b[1;31m运行具有“Python 3.10.12”的单元格需要ipykernel包。\n",
      "\u001b[1;31m运行以下命令，将 \"ipykernel\" 安装到 Python 环境中。\n",
      "\u001b[1;31m命令: \"/bin/python3 -m pip install ipykernel -U --user --force-reinstall\""
     ]
    }
   ],
   "source": [
    "model.save_pretrained(\"./saved_model\")\n",
    "tokenizer.save_pretrained(\"./saved_model\")\n"
   ]
  },
  {
   "cell_type": "code",
   "execution_count": null,
   "metadata": {},
   "outputs": [
    {
     "ename": "",
     "evalue": "",
     "output_type": "error",
     "traceback": [
      "\u001b[1;31m运行具有“Python 3.10.12”的单元格需要ipykernel包。\n",
      "\u001b[1;31m运行以下命令，将 \"ipykernel\" 安装到 Python 环境中。\n",
      "\u001b[1;31m命令: \"/bin/python3 -m pip install ipykernel -U --user --force-reinstall\""
     ]
    }
   ],
   "source": [
    "from transformers import pipeline\n",
    "\n",
    "# 加载保存的模型和tokenizer\n",
    "model_name = \"./saved_model\"\n",
    "tokenizer = BertTokenizer.from_pretrained(model_name)\n",
    "model = BertForQuestionAnswering.from_pretrained(model_name)\n",
    "\n",
    "# 创建问答管道\n",
    "qa_pipeline = pipeline(\"question-answering\", model=model, tokenizer=tokenizer)\n",
    "\n",
    "# 定义问答函数\n",
    "def answer_question(question, context):\n",
    "    result = qa_pipeline(question=question, context=context)\n",
    "    return result['answer']\n",
    "\n",
    "# 示例问题和文本\n",
    "question = \"保单生效前投保人申请退保并递交齐全退保资料时，保险公司将如何处理保险费？\"\n",
    "context = \"退保 投保人要求解除合同，自本公司接到保险合同解除申请书时起，本合同效力终止。保单生效前申请退保并递交齐全退保资料的，将全额退还保险费。若投保人在保单生效后申请退保的，退保会遭受一定损失，保险公司将退还最低现金价值。退保金额支付方式如下:（1）通过支付宝平台办理退保，退保资金将由支付宝退回您缴费的账户；（2）通过保险公司办理，退保资金将由中华财险退回投保人的银行账户；本计划各保险产品的现金价值采用以下方式计算。\"\n",
    "\n",
    "# 获取答案\n",
    "answer = answer_question(question, context)\n",
    "print(f\"Question: {question}\")\n",
    "print(f\"Answer: {answer}\")\n"
   ]
  },
  {
   "cell_type": "code",
   "execution_count": null,
   "metadata": {},
   "outputs": [
    {
     "ename": "",
     "evalue": "",
     "output_type": "error",
     "traceback": [
      "\u001b[1;31m运行具有“Python 3.10.12”的单元格需要ipykernel包。\n",
      "\u001b[1;31m运行以下命令，将 \"ipykernel\" 安装到 Python 环境中。\n",
      "\u001b[1;31m命令: \"/bin/python3 -m pip install ipykernel -U --user --force-reinstall\""
     ]
    }
   ],
   "source": []
  }
 ],
 "metadata": {
  "kernelspec": {
   "display_name": "Python 3",
   "language": "python",
   "name": "python3"
  },
  "language_info": {
   "name": "python",
   "version": "3.10.12"
  }
 },
 "nbformat": 4,
 "nbformat_minor": 2
}
